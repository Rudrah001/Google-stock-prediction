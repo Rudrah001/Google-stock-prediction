{
 "cells": [
  {
   "cell_type": "code",
   "execution_count": 1,
   "id": "559c7451-56eb-4ffa-91ae-5790aad73ea7",
   "metadata": {},
   "outputs": [],
   "source": [
    "import numpy as np\n",
    "import pandas as pd\n",
    "import matplotlib.pyplot as plt\n",
    "from PIL import Image\n",
    "import os"
   ]
  },
  {
   "cell_type": "markdown",
   "id": "38a2f860-3a3f-4f44-a8ea-b384ec074f4c",
   "metadata": {},
   "source": [
    "# Retrieving data from folders and converting to np array"
   ]
  },
  {
   "cell_type": "code",
   "execution_count": 2,
   "id": "c28c718f-885a-44c0-8e26-a1eac0158c0b",
   "metadata": {},
   "outputs": [],
   "source": [
    "data = []\n",
    "labels = []\n",
    "classes = 43\n",
    "train_path = os.getcwd()\n",
    "\n",
    "for i in range(classes):\n",
    "    train_data_path = os.path.join(train_path,\"Train\",str(i))\n",
    "    images = os.listdir(train_data_path)\n",
    "    \n",
    "    for img in images:\n",
    "        try:\n",
    "            image = Image.open(train_data_path + \"\\\\\" + img)\n",
    "            image = image.resize((30,30))\n",
    "            image = np.array(image)\n",
    "            data.append(image)\n",
    "            labels.append(i)\n",
    "        except:\n",
    "            print(\"Error loading image\")\n"
   ]
  },
  {
   "cell_type": "code",
   "execution_count": 32,
   "id": "17cf1ad7-2e44-4c9d-9fc7-2f28a01a8378",
   "metadata": {},
   "outputs": [],
   "source": [
    "data = np.array(data)\n",
    "labels = np.array(labels)"
   ]
  },
  {
   "cell_type": "code",
   "execution_count": 36,
   "id": "74fee4bd-54d3-425f-90be-b73865618e93",
   "metadata": {},
   "outputs": [],
   "source": [
    "# data[0][0][0][0]"
   ]
  },
  {
   "cell_type": "code",
   "execution_count": 34,
   "id": "ee60b34d-c26d-494d-afe9-4e5a1b68e13d",
   "metadata": {},
   "outputs": [
    {
     "name": "stdout",
     "output_type": "stream",
     "text": [
      "(39209, 30, 30, 3)\n",
      "(39209,)\n"
     ]
    }
   ],
   "source": [
    "print(data.shape)\n",
    "print(labels.shape)"
   ]
  },
  {
   "cell_type": "markdown",
   "id": "f20743db-3d92-4818-9b14-dd383ac05980",
   "metadata": {},
   "source": [
    "# Train/Test split and one - hot encoding"
   ]
  },
  {
   "cell_type": "code",
   "execution_count": 57,
   "id": "049e4ced-fc99-4f9d-854b-89c472cdfa09",
   "metadata": {},
   "outputs": [],
   "source": [
    "from sklearn.model_selection import train_test_split\n",
    "import tensorflow as tf\n",
    "from keras.utils import to_categorical"
   ]
  },
  {
   "cell_type": "code",
   "execution_count": 58,
   "id": "2f6344c1-a497-4c0b-984a-98fc1bae26ea",
   "metadata": {},
   "outputs": [],
   "source": [
    "X_train, X_test, y_train, y_test = train_test_split(data, labels, test_size=0.2, random_state=42)"
   ]
  },
  {
   "cell_type": "code",
   "execution_count": 59,
   "id": "309b82a7-f3ec-4514-a3d7-72a48ece113a",
   "metadata": {},
   "outputs": [
    {
     "name": "stdout",
     "output_type": "stream",
     "text": [
      "(31367, 30, 30, 3) (31367,) (7842, 30, 30, 3) (7842,)\n"
     ]
    }
   ],
   "source": [
    "print(X_train.shape,y_train.shape,X_test.shape,y_test.shape)"
   ]
  },
  {
   "cell_type": "code",
   "execution_count": 60,
   "id": "f72e5272-b372-4a59-9327-8ce96a4deead",
   "metadata": {},
   "outputs": [],
   "source": [
    "y_train = to_categorical(y_train, 43)\n",
    "y_test = to_categorical(y_test, 43)"
   ]
  },
  {
   "cell_type": "markdown",
   "id": "e55ead6a-30ad-4bba-b42c-80d03e1b0008",
   "metadata": {},
   "source": [
    "# Building CNN model"
   ]
  },
  {
   "cell_type": "code",
   "execution_count": 61,
   "id": "46e0421b-689f-4314-84a1-31d18ce103c8",
   "metadata": {},
   "outputs": [],
   "source": [
    "from keras.models import Sequential\n",
    "from keras.layers import Conv2D, MaxPool2D, Dense, Flatten, Dropout"
   ]
  },
  {
   "cell_type": "code",
   "execution_count": 62,
   "id": "89a087ad-53f4-4afb-a987-b5bfd6e3bddc",
   "metadata": {},
   "outputs": [
    {
     "name": "stderr",
     "output_type": "stream",
     "text": [
      "C:\\Users\\Mukteshwar Nath\\AppData\\Roaming\\Python\\Python312\\site-packages\\keras\\src\\layers\\convolutional\\base_conv.py:107: UserWarning: Do not pass an `input_shape`/`input_dim` argument to a layer. When using Sequential models, prefer using an `Input(shape)` object as the first layer in the model instead.\n",
      "  super().__init__(activity_regularizer=activity_regularizer, **kwargs)\n"
     ]
    }
   ],
   "source": [
    "model = Sequential()\n",
    "model.add(Conv2D(filters = 32, kernel_size = (5,5), activation = 'relu', input_shape = X_train.shape[1:]))\n",
    "model.add(Conv2D(filters = 32, kernel_size = (5,5), activation = 'relu'))\n",
    "model.add(MaxPool2D(pool_size = (2,2)))\n",
    "model.add(Dropout(rate = 0.25))\n",
    "model.add(Conv2D(filters = 64, kernel_size = (3,3), activation = 'relu'))\n",
    "model.add(Conv2D(filters = 64, kernel_size = (3,3), activation = 'relu'))\n",
    "model.add(MaxPool2D(pool_size = (2,2)))\n",
    "model.add(Dropout(rate = 0.25))\n",
    "model.add(Flatten())\n",
    "model.add(Dense(256, activation = 'relu'))\n",
    "model.add(Dropout(rate = 0.25))\n",
    "model.add(Dense(43, activation = 'softmax'))\n",
    "\n",
    "# Compilation of model\n",
    "model.compile(loss = 'categorical_crossentropy', optimizer = 'adam', metrics = ['accuracy'])"
   ]
  },
  {
   "cell_type": "markdown",
   "id": "6b65faa6-7263-4b8a-98b8-7ea0c3df2435",
   "metadata": {},
   "source": [
    "# Train and validate model"
   ]
  },
  {
   "cell_type": "code",
   "execution_count": 76,
   "id": "14246b78-a62d-4871-8d4e-b21b8d342542",
   "metadata": {},
   "outputs": [
    {
     "name": "stdout",
     "output_type": "stream",
     "text": [
      "Epoch 1/15\n",
      "\u001b[1m491/491\u001b[0m \u001b[32m━━━━━━━━━━━━━━━━━━━━\u001b[0m\u001b[37m\u001b[0m \u001b[1m238s\u001b[0m 476ms/step - accuracy: 0.3009 - loss: 3.6185 - val_accuracy: 0.8924 - val_loss: 0.4607\n",
      "Epoch 2/15\n",
      "\u001b[1m491/491\u001b[0m \u001b[32m━━━━━━━━━━━━━━━━━━━━\u001b[0m\u001b[37m\u001b[0m \u001b[1m253s\u001b[0m 457ms/step - accuracy: 0.8002 - loss: 0.6975 - val_accuracy: 0.9615 - val_loss: 0.1753\n",
      "Epoch 3/15\n",
      "\u001b[1m491/491\u001b[0m \u001b[32m━━━━━━━━━━━━━━━━━━━━\u001b[0m\u001b[37m\u001b[0m \u001b[1m199s\u001b[0m 404ms/step - accuracy: 0.8810 - loss: 0.4073 - val_accuracy: 0.9647 - val_loss: 0.1409\n",
      "Epoch 4/15\n",
      "\u001b[1m491/491\u001b[0m \u001b[32m━━━━━━━━━━━━━━━━━━━━\u001b[0m\u001b[37m\u001b[0m \u001b[1m230s\u001b[0m 469ms/step - accuracy: 0.9117 - loss: 0.2949 - val_accuracy: 0.9697 - val_loss: 0.1055\n",
      "Epoch 5/15\n",
      "\u001b[1m491/491\u001b[0m \u001b[32m━━━━━━━━━━━━━━━━━━━━\u001b[0m\u001b[37m\u001b[0m \u001b[1m233s\u001b[0m 408ms/step - accuracy: 0.9289 - loss: 0.2327 - val_accuracy: 0.9813 - val_loss: 0.0673\n",
      "Epoch 6/15\n",
      "\u001b[1m491/491\u001b[0m \u001b[32m━━━━━━━━━━━━━━━━━━━━\u001b[0m\u001b[37m\u001b[0m \u001b[1m208s\u001b[0m 421ms/step - accuracy: 0.9423 - loss: 0.1939 - val_accuracy: 0.9784 - val_loss: 0.0825\n",
      "Epoch 7/15\n",
      "\u001b[1m491/491\u001b[0m \u001b[32m━━━━━━━━━━━━━━━━━━━━\u001b[0m\u001b[37m\u001b[0m \u001b[1m263s\u001b[0m 423ms/step - accuracy: 0.9413 - loss: 0.2076 - val_accuracy: 0.9843 - val_loss: 0.0580\n",
      "Epoch 8/15\n",
      "\u001b[1m491/491\u001b[0m \u001b[32m━━━━━━━━━━━━━━━━━━━━\u001b[0m\u001b[37m\u001b[0m \u001b[1m254s\u001b[0m 407ms/step - accuracy: 0.9544 - loss: 0.1584 - val_accuracy: 0.9850 - val_loss: 0.0604\n",
      "Epoch 9/15\n",
      "\u001b[1m491/491\u001b[0m \u001b[32m━━━━━━━━━━━━━━━━━━━━\u001b[0m\u001b[37m\u001b[0m \u001b[1m203s\u001b[0m 408ms/step - accuracy: 0.9571 - loss: 0.1522 - val_accuracy: 0.9818 - val_loss: 0.0697\n",
      "Epoch 10/15\n",
      "\u001b[1m491/491\u001b[0m \u001b[32m━━━━━━━━━━━━━━━━━━━━\u001b[0m\u001b[37m\u001b[0m \u001b[1m202s\u001b[0m 408ms/step - accuracy: 0.9631 - loss: 0.1323 - val_accuracy: 0.9894 - val_loss: 0.0427\n",
      "Epoch 11/15\n",
      "\u001b[1m491/491\u001b[0m \u001b[32m━━━━━━━━━━━━━━━━━━━━\u001b[0m\u001b[37m\u001b[0m \u001b[1m203s\u001b[0m 410ms/step - accuracy: 0.9653 - loss: 0.1163 - val_accuracy: 0.9865 - val_loss: 0.0477\n",
      "Epoch 12/15\n",
      "\u001b[1m491/491\u001b[0m \u001b[32m━━━━━━━━━━━━━━━━━━━━\u001b[0m\u001b[37m\u001b[0m \u001b[1m202s\u001b[0m 410ms/step - accuracy: 0.9647 - loss: 0.1222 - val_accuracy: 0.9872 - val_loss: 0.0472\n",
      "Epoch 13/15\n",
      "\u001b[1m491/491\u001b[0m \u001b[32m━━━━━━━━━━━━━━━━━━━━\u001b[0m\u001b[37m\u001b[0m \u001b[1m207s\u001b[0m 420ms/step - accuracy: 0.9682 - loss: 0.1090 - val_accuracy: 0.9839 - val_loss: 0.0553\n",
      "Epoch 14/15\n",
      "\u001b[1m491/491\u001b[0m \u001b[32m━━━━━━━━━━━━━━━━━━━━\u001b[0m\u001b[37m\u001b[0m \u001b[1m271s\u001b[0m 439ms/step - accuracy: 0.9701 - loss: 0.1063 - val_accuracy: 0.9903 - val_loss: 0.0405\n",
      "Epoch 15/15\n",
      "\u001b[1m491/491\u001b[0m \u001b[32m━━━━━━━━━━━━━━━━━━━━\u001b[0m\u001b[37m\u001b[0m \u001b[1m308s\u001b[0m 531ms/step - accuracy: 0.9686 - loss: 0.1177 - val_accuracy: 0.9923 - val_loss: 0.0346\n"
     ]
    }
   ],
   "source": [
    "history = model.fit(X_train, y_train, batch_size = 64, epochs = 15, validation_data = (X_test,y_test))"
   ]
  },
  {
   "cell_type": "code",
   "execution_count": 84,
   "id": "aa8e840c-d732-486f-8759-47152f332b4c",
   "metadata": {},
   "outputs": [
    {
     "data": {
      "text/plain": [
       "dict_keys(['accuracy', 'loss', 'val_accuracy', 'val_loss'])"
      ]
     },
     "execution_count": 84,
     "metadata": {},
     "output_type": "execute_result"
    }
   ],
   "source": [
    "history.history.keys()"
   ]
  },
  {
   "cell_type": "code",
   "execution_count": 96,
   "id": "cda02201-5b13-4189-915e-0a3b446849b4",
   "metadata": {},
   "outputs": [
    {
     "data": {
      "image/png": "[encoded data removed]",
      "text/plain": [
       "<Figure size 1200x500 with 2 Axes>"
      ]
     },
     "metadata": {},
     "output_type": "display_data"
    }
   ],
   "source": [
    "plt.figure(figsize = (12,5))\n",
    "plt.subplot(1,2,1)\n",
    "plt.plot(history.history['accuracy'], label = 'Training accuracy')\n",
    "plt.plot(history.history['val_accuracy'], label = 'val accuracy')\n",
    "plt.title(\"Accuracy\")\n",
    "plt.xlabel(\"epochs\")\n",
    "plt.ylabel(\"accuracy\")\n",
    "plt.legend()\n",
    "plt.grid(True)\n",
    "\n",
    "plt.subplot(1,2,2)\n",
    "plt.plot(history.history['loss'], label = 'Loss')\n",
    "plt.plot(history.history['val_loss'], label = 'val loss')\n",
    "plt.title(\"Loss\")\n",
    "plt.xlabel(\"epochs\")\n",
    "plt.ylabel(\"Loss\")\n",
    "plt.legend()\n",
    "plt.grid(True)\n",
    "\n",
    "plt.show()"
   ]
  },
  {
   "cell_type": "markdown",
   "id": "02256ab0-35eb-4901-9006-143feedcbdbf",
   "metadata": {},
   "source": [
    "# Testing the model"
   ]
  },
  {
   "cell_type": "code",
   "execution_count": 2,
   "id": "85cba1e0-3f0b-452b-bfaf-8bfeafc327d5",
   "metadata": {},
   "outputs": [],
   "source": [
    "from sklearn.metrics import accuracy_score\n",
    "df = pd.read_csv(r\"D:\\My\\Studies\\Summer training\\DL\\DL project\\Test.csv\")"
   ]
  },
  {
   "cell_type": "code",
   "execution_count": 3,
   "id": "8d98795c-a6dd-49c2-9794-47f48034b845",
   "metadata": {},
   "outputs": [
    {
     "ename": "NameError",
     "evalue": "name 'data' is not defined",
     "output_type": "error",
     "traceback": [
      "\u001b[1;31m---------------------------------------------------------------------------\u001b[0m",
      "\u001b[1;31mNameError\u001b[0m                                 Traceback (most recent call last)",
      "Cell \u001b[1;32mIn[3], line 7\u001b[0m\n\u001b[0;32m      5\u001b[0m     image \u001b[38;5;241m=\u001b[39m Image\u001b[38;5;241m.\u001b[39mopen(img)\n\u001b[0;32m      6\u001b[0m     image \u001b[38;5;241m=\u001b[39m image\u001b[38;5;241m.\u001b[39mresize((\u001b[38;5;241m30\u001b[39m,\u001b[38;5;241m30\u001b[39m))\n\u001b[1;32m----> 7\u001b[0m     data\u001b[38;5;241m.\u001b[39mappend(np\u001b[38;5;241m.\u001b[39marray(image))\n\u001b[0;32m      9\u001b[0m test_data \u001b[38;5;241m=\u001b[39m np\u001b[38;5;241m.\u001b[39marray(data1)\n\u001b[0;32m     10\u001b[0m pred \u001b[38;5;241m=\u001b[39m model\u001b[38;5;241m.\u001b[39mpredict(test_data)\n",
      "\u001b[1;31mNameError\u001b[0m: name 'data' is not defined"
     ]
    }
   ],
   "source": [
    "labels1 = df[\"ClassId\"].values\n",
    "imgs = df[\"Path\"].values\n",
    "data1 = []\n",
    "for img in imgs:\n",
    "    image = Image.open(img)\n",
    "    image = image.resize((30,30))\n",
    "    data1.append(np.array(image))\n",
    "    \n",
    "test_data = np.array(data1)\n",
    "pred = model.predict(test_data)\n",
    "pred_value = np.argmax(pred, axis = 1)"
   ]
  },
  {
   "cell_type": "code",
   "execution_count": 114,
   "id": "548312d3-1734-47ab-a83d-5c98bc62a4b3",
   "metadata": {},
   "outputs": [
    {
     "name": "stdout",
     "output_type": "stream",
     "text": [
      "0.9588281868566905\n"
     ]
    }
   ],
   "source": [
    "#Accuracy with the test data\n",
    "\n",
    "print(accuracy_score(labels, pred_value))\n",
    "model.save('traffic_classifier.keras')"
   ]
  },
  {
   "cell_type": "code",
   "execution_count": 9,
   "id": "114cfecd-c1a1-404b-b27a-5731b24b2db6",
   "metadata": {},
   "outputs": [],
   "source": [
    "sign_names = { 1:'Speed limit (20km/h)',\n",
    "            2:'Speed limit (30km/h)',      \n",
    "            3:'Speed limit (50km/h)',       \n",
    "            4:'Speed limit (60km/h)',      \n",
    "            5:'Speed limit (70km/h)',    \n",
    "            6:'Speed limit (80km/h)',      \n",
    "            7:'End of speed limit (80km/h)',     \n",
    "            8:'Speed limit (100km/h)',    \n",
    "            9:'Speed limit (120km/h)',     \n",
    "           10:'No passing',   \n",
    "           11:'No passing veh over 3.5 tons',     \n",
    "           12:'Right-of-way at intersection',     \n",
    "           13:'Priority road',    \n",
    "           14:'Yield',     \n",
    "           15:'Stop',       \n",
    "           16:'No vehicles',       \n",
    "           17:'Veh > 3.5 tons prohibited',       \n",
    "           18:'No entry',       \n",
    "           19:'General caution',     \n",
    "           20:'Dangerous curve left',      \n",
    "           21:'Dangerous curve right',   \n",
    "           22:'Double curve',      \n",
    "           23:'Bumpy road',     \n",
    "           24:'Slippery road',       \n",
    "           25:'Road narrows on the right',  \n",
    "           26:'Road work',    \n",
    "           27:'Traffic signals',      \n",
    "           28:'Pedestrians',     \n",
    "           29:'Children crossing',     \n",
    "           30:'Bicycles crossing',       \n",
    "           31:'Beware of ice/snow',\n",
    "           32:'Wild animals crossing',      \n",
    "           33:'End speed + passing limits',      \n",
    "           34:'Turn right ahead',     \n",
    "           35:'Turn left ahead',       \n",
    "           36:'Ahead only',      \n",
    "           37:'Go straight or right',      \n",
    "           38:'Go straight or left',      \n",
    "           39:'Keep right',     \n",
    "           40:'Keep left',      \n",
    "           41:'Roundabout mandatory',     \n",
    "           42:'End of no passing',      \n",
    "           43:'End no passing veh > 3.5 tons' }"
   ]
  },
  {
   "cell_type": "markdown",
   "id": "74276a0b-1607-47a3-8242-4a2562493d80",
   "metadata": {},
   "source": [
    "# Manual Prediction"
   ]
  },
  {
   "cell_type": "code",
   "execution_count": 4,
   "id": "2bc43cbb-2d9f-4021-b055-d78f562408d0",
   "metadata": {},
   "outputs": [],
   "source": [
    "from keras.models import load_model"
   ]
  },
  {
   "cell_type": "code",
   "execution_count": 5,
   "id": "7550521c-d156-4257-8248-bbfc0e5d0bf7",
   "metadata": {},
   "outputs": [
    {
     "name": "stderr",
     "output_type": "stream",
     "text": [
      "C:\\Users\\Mukteshwar Nath\\AppData\\Roaming\\Python\\Python312\\site-packages\\keras\\src\\saving\\saving_lib.py:757: UserWarning: Skipping variable loading for optimizer 'rmsprop', because it has 14 variables whereas the saved optimizer has 26 variables. \n",
      "  saveable.load_own_variables(weights_store.get(inner_path))\n"
     ]
    }
   ],
   "source": [
    "model1 = load_model(\"traffic_classifier.keras\")"
   ]
  },
  {
   "cell_type": "code",
   "execution_count": 11,
   "id": "ae5991dc-584f-4d6f-a6e3-27c3e5e43503",
   "metadata": {},
   "outputs": [],
   "source": [
    "img_new = Image.open(r'D:\\My\\Studies\\Summer training\\DL\\DL project\\Test\\00024.png')\n",
    "img_new = img_new.convert(\"RGB\")\n",
    "img_new = img_new.resize((30,30))\n",
    "img1_new = np.array(img_new)\n",
    "img1_new = np.expand_dims(img1_new, axis = 0)"
   ]
  },
  {
   "cell_type": "code",
   "execution_count": 12,
   "id": "8e75c66e-3463-479d-98c9-88a0a0341484",
   "metadata": {},
   "outputs": [
    {
     "name": "stdout",
     "output_type": "stream",
     "text": [
      "\u001b[1m1/1\u001b[0m \u001b[32m━━━━━━━━━━━━━━━━━━━━\u001b[0m\u001b[37m\u001b[0m \u001b[1m0s\u001b[0m 102ms/step\n"
     ]
    }
   ],
   "source": [
    "pred_new = model1.predict(img1_new)\n",
    "pred_label = np.argmax(pred_new, axis=1)[0]\n",
    "pred_label+=1"
   ]
  },
  {
   "cell_type": "code",
   "execution_count": 13,
   "id": "a0780ee6-c29a-496c-a08d-ac0a2cba84f7",
   "metadata": {},
   "outputs": [
    {
     "name": "stdout",
     "output_type": "stream",
     "text": [
      "Predicted sign :  Speed limit (30km/h)\n"
     ]
    },
    {
     "data": {
      "image/png": "[encoded data removed]",
      "text/plain": [
       "<Figure size 640x480 with 1 Axes>"
      ]
     },
     "metadata": {},
     "output_type": "display_data"
    }
   ],
   "source": [
    "plt.xlabel(\"Test image\")\n",
    "plt.imshow(img_new)\n",
    "print(\"Predicted sign : \", sign_names[pred_label])"
   ]
  },
  {
   "cell_type": "code",
   "execution_count": null,
   "id": "475dae16-0969-4e56-835c-862ca493be65",
   "metadata": {},
   "outputs": [],
   "source": []
  }
 ],
 "metadata": {
  "kernelspec": {
   "display_name": "Python 3 (ipykernel)",
   "language": "python",
   "name": "python3"
  },
  "language_info": {
   "codemirror_mode": {
    "name": "ipython",
    "version": 3
   },
   "file_extension": ".py",
   "mimetype": "text/x-python",
   "name": "python",
   "nbconvert_exporter": "python",
   "pygments_lexer": "ipython3",
   "version": "3.12.7"
  }
 },
 "nbformat": 4,
 "nbformat_minor": 5
}
